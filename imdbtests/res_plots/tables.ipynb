{
 "cells": [
  {
   "cell_type": "code",
   "execution_count": 1,
   "metadata": {},
   "outputs": [],
   "source": [
    "#import analysis_util as au\n",
    "import matplotlib.pyplot as plt\n",
    "import numpy as np\n",
    "import pandas as pd\n",
    "\n",
    "import sys, os\n",
    "from glob import glob\n",
    "import pickle as pickle\n",
    "\n",
    "import matplotlib.patches as mpatches\n",
    "import matplotlib.pyplot as plt\n",
    "\n",
    "sys.path.append(\"/localdata2/jent_so/LM_GenderBias\")"
   ]
  },
  {
   "cell_type": "code",
   "execution_count": 2,
   "metadata": {},
   "outputs": [],
   "source": [
    "def posneg(list):\n",
    "    pos = [x for x in list if x>0]\n",
    "    neg = [x for x in list if x<0]\n",
    "    \n",
    "#    print(len(pos), len(neg)) \n",
    "    return np.mean(pos), np.mean(neg), len(pos), len(neg)\n",
    "    \n",
    "\n",
    "def rename(name):\n",
    "    specs = [\n",
    "        ['N_pro', 'remove Pronouns'], \n",
    "        ['N_weat', 'remove WEAT'], \n",
    "        ['N_all', 'remove All'],\n",
    "        ['mix_pro', 'mix Pronouns'], \n",
    "        ['mix_weat', 'mix WEAT'], \n",
    "        ['mix_all', 'mix All'], \n",
    "        ['original_Rall', 'All'], \n",
    "        ['original_Rweat', 'WEAT'], \n",
    "        ['original_Rpro', 'Pronouns'], \n",
    "    ]\n",
    "    specs = [\n",
    "        ['pro', 'remove Pronouns'], \n",
    "        ['weat', 'remove WEAT'], \n",
    "        ['all', 'remove All'],\n",
    "        ['mix_pro', 'mix Pronouns'], \n",
    "        ['mix_weat', 'mix WEAT'], \n",
    "        ['mix_all', 'mix All'], \n",
    "        ['original_Rall', 'All'], \n",
    "        ['original_Rweat', 'WEAT'], \n",
    "        ['original_Rpro', 'Pronouns'], \n",
    "    ]\n",
    "        #['original']\n",
    "    for spec in specs:\n",
    "        if spec[0] in name:\n",
    "            return spec[0]\n",
    "        #    return spec[1]\n",
    "    print(\"error\")\n",
    "\n",
    "\n",
    "def calc_bias_dict(df_dict):\n",
    "    bias_dict = {}\n",
    "\n",
    "    for spec in df_dict.keys():\n",
    "        bias_l = df_dict[spec].bias.tolist()\n",
    "        # total bias\n",
    "        overall_bias_total = np.mean(bias_l)\n",
    "        overall_bias_total_noZero = np.mean([i for i in bias_l if i != 0])\n",
    "        # absolute bias\n",
    "        overall_bias_abs = np.mean([abs(x) for x in bias_l])\n",
    "        overall_bias_abs_noZero = np.mean([abs(x) for x in bias_l if x != 0])\n",
    "        # pos neg bias \n",
    "        pos, neg, pos_n, neg_n = posneg(bias_l) \n",
    "\n",
    "        bias_dict[spec] = [\n",
    "            overall_bias_total, # 0\n",
    "            overall_bias_abs, # 1\n",
    "            pos, neg, # 2 3 \n",
    "            pos_n, neg_n, # 4 5 \n",
    "            overall_bias_total_noZero, # 6\n",
    "            overall_bias_abs_noZero  ] # 7 \n",
    "    return bias_dict\n"
   ]
  },
  {
   "cell_type": "code",
   "execution_count": 28,
   "metadata": {},
   "outputs": [],
   "source": [
    "def get_bias(task = 'IMDB', model_id_= 'tinybert'):\n",
    "    files = glob(\"../res_results/ratings/*\")\n",
    "    # o = '../res_results/ratings/rating_{}_{}_original'.format(task, model_id_)\n",
    "    # if o in files:\n",
    "    #     files.remove(o)\n",
    "\n",
    "    df_dict = {}\n",
    "    for file in files: \n",
    "        if '_{}_'.format(model_id_) in file and task in file:\n",
    "            with open (file, \"rb\") as fh:\n",
    "                data = pickle.load(fh)\n",
    "            df_dict[rename(file)] = data\n",
    "    return df_dict\n"
   ]
  },
  {
   "cell_type": "markdown",
   "metadata": {},
   "source": [
    "---  \n",
    "  \n",
    "---  \n",
    "  \n",
    "---  "
   ]
  },
  {
   "cell_type": "code",
   "execution_count": 31,
   "metadata": {
    "collapsed": true,
    "jupyter": {
     "outputs_hidden": true
    }
   },
   "outputs": [
    {
     "name": "stdout",
     "output_type": "stream",
     "text": [
      "tinybert &  pro &  -0.0011911784422397613 &  -0.0026459215940802267 &  14398 &  1878 &  8724 \\\\ \n",
      "tinybert &  weat &  -0.002174190649986267 &  -0.004246191205495246 &  16153 &  2127 &  6720 \\\\ \n",
      "tinybert &  all &  -0.0019801199889183043 &  -0.003466279044727071 &  15711 &  5018 &  4271 \\\\ \n"
     ]
    }
   ],
   "source": [
    "# specs = ['original_Rpro', 'mix_pro', 'original_Rall', 'mix_all', 'original_Rweat', 'N_pro', 'N_weat', 'mix_weat', 'N_all']\n",
    "specs = ['original_Rall', 'original_Rweat', 'original_Rpro', \"N_pro\", \"N_weat\", \"N_all\", \"mix_pro\", \"mix_weat\", \"mix_all\"]#, ]\n",
    "model_ids = [\"albertbase\", \"albertlarge\", \"bertbase\", \"bertlarge\", \"distbase\", \"robertabase\", \"robertalarge\"]\n",
    "specs = [\n",
    "        'pro' ,\n",
    "        'weat',\n",
    "        'all'\n",
    "    ]\n",
    "model_ids=[\"tinybert\"]\n",
    "\n",
    "\n",
    "# get_bias_bydict does basically the same as calc_bias_dict, but for singe specs instead of a whole model_id \n",
    "# get_bias_bydict takes returns single values per spec, while calc_bias_dict returns a dict wiht specs as keys and values as values\n",
    "def get_bias_bydict(dic, spec):\n",
    "    df = dic[spec]\n",
    "    df_no_zero = df.loc[(df != 0).all(axis=1)]\n",
    "    \n",
    "    bias = df.bias.mean()\n",
    "    zero_bias = df_no_zero.bias.mean()\n",
    "    \n",
    "    neg_count = 0\n",
    "    pos_count =0\n",
    "    zero_count = 0\n",
    "    for elem in df.bias.tolist():\n",
    "        if elem >0:\n",
    "            pos_count+=1\n",
    "        elif elem <0:\n",
    "            neg_count+=1\n",
    "        elif elem ==0:\n",
    "            zero_count+=1\n",
    "            \n",
    "    return bias, zero_bias, neg_count, pos_count, zero_count    \n",
    "    \n",
    "for model in model_ids: \n",
    "    dic = get_bias('IMDB')\n",
    "    for spec in specs:\n",
    "        b, zb, neg, pos, zero = get_bias_bydict(dic, spec)\n",
    "        print(model, \"& \", spec,\"& \", b,\"& \", zb,\"& \", neg,\"& \", pos,\"& \", zero, \"\\\\\"\"\\\\ \")"
   ]
  },
  {
   "cell_type": "code",
   "execution_count": null,
   "metadata": {},
   "outputs": [],
   "source": [
    "IMDB_training_details = [\n",
    "    [\"IMDB\", \"albertbase\", \"N_all\", 0.1, 5 ],  \n",
    "    [\"IMDB\", \"albertbase\", \"N_pro\", 0.05, 4 ], \n",
    "    [\"IMDB\", \"albertbase\", \"N_weat\", 0.05, 8 ],\n",
    "    [\"IMDB\", \"albertbase\", \"mix_all\", 0.1, 19 ],\n",
    "    [\"IMDB\", \"albertbase\", \"mix_pro\", 0.1, 13 ], \n",
    "    [\"IMDB\", \"albertbase\", \"mix_weat\", 0.2, 6 ],\n",
    "    [\"IMDB\", \"albertbase\", \"original\", 0.1, 8 ], \n",
    "    [\"IMDB\", \"albertlarge\", \"N_all\", 0.05, 17 ],\n",
    "    [\"IMDB\", \"albertlarge\", \"N_pro\", 0.05, 11 ],\n",
    "    [\"IMDB\", \"albertlarge\", \"N_weat\", 0.05, 12 ],\n",
    "    [\"IMDB\", \"albertlarge\", \"mix_all\", 0.2, 18 ],\n",
    "    [\"IMDB\", \"albertlarge\", \"mix_pro\", 0.1, 7 ],\n",
    "    [\"IMDB\", \"albertlarge\", \"mix_weat\", 0.1, 19 ],\n",
    "    [\"IMDB\", \"albertlarge\", \"original\", 0.2, 12 ], \n",
    "    [\"IMDB\", \"bertbase\", \"N_all\", 0.1, 12 ],\n",
    "    [\"IMDB\", \"bertbase\", \"N_pro\", 0.1, 11 ],\n",
    "    [\"IMDB\", \"bertbase\", \"N_weat\", 0.1, 12 ],\n",
    "    [\"IMDB\", \"bertbase\", \"mix_all\", 0.2, 12], \n",
    "    [\"IMDB\", \"bertbase\", \"mix_pro\", 0.2, 5 ], \n",
    "    [\"IMDB\", \"bertbase\", \"mix_weat\", 0.2, 10 ],\n",
    "    [\"IMDB\", \"bertbase\", \"original\", 0.1, 10 ],\n",
    "    [\"IMDB\", \"bertlarge\", \"N_all\", 0.05, 19 ],\n",
    "    [\"IMDB\", \"bertlarge\", \"N_pro\", 0.05, 7 ], \n",
    "    [\"IMDB\", \"bertlarge\", \"N_weat\", 0.1, 6 ],\n",
    "    [\"IMDB\", \"bertlarge\", \"mix_all\", 0.2, 14 ],\n",
    "    [\"IMDB\", \"bertlarge\", \"mix_pro\", 0.2, 19 ],\n",
    "    [\"IMDB\", \"bertlarge\", \"mix_weat\", 0.2, 13 ],\n",
    "    [\"IMDB\", \"bertlarge\", \"original\", 0.05, 13],\n",
    "    [\"IMDB\", \"distbase\", \"N_all\", 0.05, 16 ],\n",
    "    [\"IMDB\", \"distbase\", \"N_pro\", 0.05, 18 ],\n",
    "    [\"IMDB\", \"distbase\", \"N_weat\", 0.05, 19 ],\n",
    "    [\"IMDB\", \"distbase\", \"mix_all\", 0.2, 14 ],\n",
    "    [\"IMDB\", \"distbase\", \"mix_pro\", 0.2, 18 ],\n",
    "    [\"IMDB\", \"distbase\", \"mix_weat\", 0.2, 19 ],\n",
    "    [\"IMDB\", \"distbase\", \"original\", 0.05, 8 ],\n",
    "    [\"IMDB\", \"robertabase\", \"N_all\", 0.05, 10],\n",
    "    [\"IMDB\", \"robertabase\", \"N_pro\", 0.05, 7],\n",
    "    [\"IMDB\", \"robertabase\", \"N_weat\", 0.05, 10],\n",
    "    [\"IMDB\", \"robertabase\", \"mix_all\", 0.05, 11],\n",
    "    [\"IMDB\", \"robertabase\", \"mix_pro\", 0.05, 4],\n",
    "    [\"IMDB\", \"robertabase\", \"mix_weat\", 0.05, 7],\n",
    "    [\"IMDB\", \"robertabase\", \"original\", 0.05, 8],\n",
    "    [\"IMDB\", \"robertalarge\", \"N_all\", 0.05, 15 ],\n",
    "    [\"IMDB\", \"robertalarge\", \"N_pro\", 0.05, 10 ],\n",
    "    [\"IMDB\", \"robertalarge\", \"N_weat\", 0.05, 14 ],\n",
    "    [\"IMDB\", \"robertalarge\", \"mix_all\", 0.05, 5 ],\n",
    "    [\"IMDB\", \"robertalarge\", \"mix_pro\", 0.05, 5 ],\n",
    "    [\"IMDB\", \"robertalarge\", \"mix_weat\", 0.05, 5 ],\n",
    "    [\"IMDB\", \"robertalarge\", \"original\", 0.05, 11 ]\n",
    "]"
   ]
  },
  {
   "cell_type": "code",
   "execution_count": null,
   "metadata": {},
   "outputs": [],
   "source": [
    "def r(n, d = 4):\n",
    "    return round(n, d)\n"
   ]
  },
  {
   "cell_type": "code",
   "execution_count": 32,
   "metadata": {
    "collapsed": true,
    "jupyter": {
     "outputs_hidden": true
    }
   },
   "outputs": [
    {
     "name": "stdout",
     "output_type": "stream",
     "text": [
      "tinybert &  pro & $ -0.0012 $ & $ -0.0026 $ &  14398 &  1878 &  8724 \\\\ \n",
      "tinybert &  weat & $ -0.0022 $ & $ -0.0042 $ &  16153 &  2127 &  6720 \\\\ \n",
      "tinybert &  all & $ -0.002 $ & $ -0.0035 $ &  15711 &  5018 &  4271 \\\\ \n"
     ]
    }
   ],
   "source": [
    "    \n",
    "for model in model_ids: \n",
    "    dic = get_bias('IMDB', model_id_ = model)\n",
    "    for spec in specs:\n",
    "        b, zb, neg, pos, zero = get_bias_bydict(dic, spec)\n",
    "        print(model, \"& \", spec,\"& $\", round(b,4 ),\"$ & $\", round(zb, 4),\"$ & \", neg,\"& \", pos,\"& \", zero, \"\\\\\"\"\\\\ \")"
   ]
  },
  {
   "cell_type": "markdown",
   "metadata": {},
   "source": [
    "### final complete bias table for supplementary results"
   ]
  },
  {
   "cell_type": "code",
   "execution_count": 34,
   "metadata": {
    "collapsed": true,
    "jupyter": {
     "outputs_hidden": true
    }
   },
   "outputs": [
    {
     "name": "stdout",
     "output_type": "stream",
     "text": [
      "tinybert &  pro &  0.0019 &  -0.0026 &  0.0012 &  -0.0012 &  14398 &  1878 &  8724 \\\\ \n",
      "tinybert &  weat &  0.0031 &  -0.0042 &  0.0023 &  -0.0022 &  16153 &  2127 &  6720 \\\\ \n",
      "tinybert &  all &  0.0039 &  -0.0035 &  0.0032 &  -0.002 &  15711 &  5018 &  4271 \\\\ \n"
     ]
    }
   ],
   "source": [
    "\n",
    "# final complete bias table for supplementary results\n",
    "\n",
    "for model in model_ids: # ['distbase', 'bertbase', 'bertlarge', 'robertabase', 'robertalarge', 'albertabase', 'albertalarge']: \n",
    "    dic = get_bias('IMDB', model_id_ = model)\n",
    "    bias_dict = calc_bias_dict(dic) \n",
    "    for spec in specs:\n",
    "        overall_bias_total, overall_bias_abs, pos, neg, pos_n, neg_n, overall_bias_total_noZero, overall_bias_abs_noZero = bias_dict[spec]\n",
    "        b, zb, neg, pos, zero = get_bias_bydict(dic, spec)\n",
    "        # assert(overall_bias_total==b)\n",
    "        # assert(overall_bias_total_noZero==zb)\n",
    "        print(model, \"& \", spec,\"& \",\n",
    "              r(overall_bias_abs_noZero), \"& \", r(zb), \"& \",\n",
    "              r(overall_bias_abs), \"& \", r(b), \"& \",\n",
    "              neg,\"& \", pos,\"& \", zero, \"\\\\\"\"\\\\ \")"
   ]
  },
  {
   "cell_type": "markdown",
   "metadata": {},
   "source": [
    "### final condensed bias table for paper results"
   ]
  },
  {
   "cell_type": "code",
   "execution_count": 35,
   "metadata": {},
   "outputs": [
    {
     "data": {
      "text/html": [
       "<div>\n",
       "<style scoped>\n",
       "    .dataframe tbody tr th:only-of-type {\n",
       "        vertical-align: middle;\n",
       "    }\n",
       "\n",
       "    .dataframe tbody tr th {\n",
       "        vertical-align: top;\n",
       "    }\n",
       "\n",
       "    .dataframe thead th {\n",
       "        text-align: right;\n",
       "    }\n",
       "</style>\n",
       "<table border=\"1\" class=\"dataframe\">\n",
       "  <thead>\n",
       "    <tr style=\"text-align: right;\">\n",
       "      <th></th>\n",
       "      <th>0</th>\n",
       "      <th>1</th>\n",
       "      <th>2</th>\n",
       "    </tr>\n",
       "  </thead>\n",
       "  <tbody>\n",
       "    <tr>\n",
       "      <th>ss</th>\n",
       "      <td>pro</td>\n",
       "      <td>weat</td>\n",
       "      <td>all</td>\n",
       "    </tr>\n",
       "    <tr>\n",
       "      <th>tinybert_abs</th>\n",
       "      <td>0.0019</td>\n",
       "      <td>0.0031</td>\n",
       "      <td>0.0039</td>\n",
       "    </tr>\n",
       "    <tr>\n",
       "      <th>tinybert_tot</th>\n",
       "      <td>-0.0018</td>\n",
       "      <td>-0.003</td>\n",
       "      <td>-0.0024</td>\n",
       "    </tr>\n",
       "  </tbody>\n",
       "</table>\n",
       "</div>"
      ],
      "text/plain": [
       "                   0       1       2\n",
       "ss               pro    weat     all\n",
       "tinybert_abs  0.0019  0.0031  0.0039\n",
       "tinybert_tot -0.0018  -0.003 -0.0024"
      ]
     },
     "execution_count": 35,
     "metadata": {},
     "output_type": "execute_result"
    }
   ],
   "source": [
    "special_spec =  ['original_Rpro', \"N_pro\", \"mix_pro\",\n",
    "                 'original_Rweat', \"N_weat\", \"mix_weat\",\n",
    "                 'original_Rall', \"N_all\", \"mix_all\"]\n",
    "\n",
    "res_dic = {}\n",
    "res_dic['ss'] = specs\n",
    "for m in model_ids:\n",
    "    res_dic[m+'_abs'] = []\n",
    "    res_dic[m+'_tot'] = []\n",
    "\n",
    "for model in model_ids: \n",
    "    dic = get_bias('IMDB', model_id_ = model)\n",
    "    bias_dict = calc_bias_dict(dic) \n",
    "\n",
    "    for spec in specs:\n",
    "        overall_bias_total, overall_bias_abs, pos, neg, pos_n, neg_n, overall_bias_total_noZero, overall_bias_abs_noZero = bias_dict[spec]\n",
    "        res_dic[model+'_abs'].append(r(overall_bias_abs_noZero))\n",
    "        res_dic[model+'_tot'].append(r(overall_bias_total_noZero))\n",
    "        \n",
    "res = pd.DataFrame(res_dic)\n",
    "res = res.transpose()\n",
    "res"
   ]
  },
  {
   "cell_type": "code",
   "execution_count": 36,
   "metadata": {},
   "outputs": [
    {
     "name": "stdout",
     "output_type": "stream",
     "text": [
      "\\begin{tabular}{llll}\n",
      "\\toprule\n",
      "{} &       0 &       1 &       2 \\\\\n",
      "\\midrule\n",
      "ss           &     pro &    weat &     all \\\\\n",
      "tinybert\\_abs &  0.0019 &  0.0031 &  0.0039 \\\\\n",
      "tinybert\\_tot & -0.0018 &  -0.003 & -0.0024 \\\\\n",
      "\\bottomrule\n",
      "\\end{tabular}\n",
      "\n"
     ]
    },
    {
     "name": "stderr",
     "output_type": "stream",
     "text": [
      "/var/folders/md/bfz8h2w96gz5p8cm9hf777vm0000gn/T/ipykernel_61031/138774964.py:1: FutureWarning: In future versions `DataFrame.to_latex` is expected to utilise the base implementation of `Styler.to_latex` for formatting and rendering. The arguments signature may therefore change. It is recommended instead to use `DataFrame.style.to_latex` which also contains additional functionality.\n",
      "  print(res.to_latex())\n"
     ]
    }
   ],
   "source": [
    "print(res.to_latex())"
   ]
  },
  {
   "cell_type": "code",
   "execution_count": 41,
   "metadata": {},
   "outputs": [
    {
     "name": "stdout",
     "output_type": "stream",
     "text": [
      "                 0\n",
      "mods      tinybert\n",
      "pro_abs     0.0019\n",
      "pro_tot    -0.0018\n",
      "weat_abs    0.0031\n",
      "weat_tot    -0.003\n",
      "all_abs     0.0039\n",
      "all_tot    -0.0024\n",
      "\\begin{tabular}{ll}\n",
      "\\toprule\n",
      "{} &         0 \\\\\n",
      "\\midrule\n",
      "mods     &  tinybert \\\\\n",
      "pro\\_abs  &    0.0019 \\\\\n",
      "pro\\_tot  &   -0.0018 \\\\\n",
      "weat\\_abs &    0.0031 \\\\\n",
      "weat\\_tot &    -0.003 \\\\\n",
      "all\\_abs  &    0.0039 \\\\\n",
      "all\\_tot  &   -0.0024 \\\\\n",
      "\\bottomrule\n",
      "\\end{tabular}\n",
      "\n"
     ]
    },
    {
     "name": "stderr",
     "output_type": "stream",
     "text": [
      "/var/folders/md/bfz8h2w96gz5p8cm9hf777vm0000gn/T/ipykernel_61031/751209585.py:23: FutureWarning: In future versions `DataFrame.to_latex` is expected to utilise the base implementation of `Styler.to_latex` for formatting and rendering. The arguments signature may therefore change. It is recommended instead to use `DataFrame.style.to_latex` which also contains additional functionality.\n",
      "  print(res[0].to_latex())\n"
     ]
    }
   ],
   "source": [
    "special_spec =  ['original_Rpro', \"N_pro\", \"mix_pro\",\n",
    "                 'original_Rweat', \"N_weat\", \"mix_weat\",\n",
    "                 'original_Rall', \"N_all\", \"mix_all\"]\n",
    "\n",
    "res_dic = {'mods':model_ids}\n",
    "for spec in specs:\n",
    "    res_dic[spec+'_abs'] = []\n",
    "    res_dic[spec+'_tot'] = []\n",
    "\n",
    "for model in model_ids: \n",
    "    dic = get_bias('IMDB', model_id_ = model)\n",
    "    bias_dict = calc_bias_dict(dic) \n",
    "\n",
    "    for spec in specs:\n",
    "        overall_bias_total, overall_bias_abs, pos, neg, pos_n, neg_n, overall_bias_total_noZero, overall_bias_abs_noZero = bias_dict[spec]\n",
    "        res_dic[spec+'_abs'].append(r(overall_bias_abs_noZero))\n",
    "        res_dic[spec+'_tot'].append(r(overall_bias_total_noZero))\n",
    "        \n",
    "res = pd.DataFrame(res_dic)\n",
    "res = res.transpose()\n",
    "print(res)\n",
    "\n",
    "print(res[0].to_latex())"
   ]
  },
  {
   "cell_type": "markdown",
   "metadata": {},
   "source": [
    "---  \n",
    "  \n",
    "---  \n",
    "  \n",
    "---  "
   ]
  },
  {
   "cell_type": "markdown",
   "metadata": {},
   "source": [
    "## Hypothesis testing"
   ]
  },
  {
   "cell_type": "raw",
   "metadata": {
    "jupyter": {
     "outputs_hidden": true
    }
   },
   "source": [
    "from scipy.stats import ranksums, wilcoxon\n",
    "\n",
    "# You should use the signed rank test when the data are paired.\n",
    "# You should use the rank-sum test when the data are not paired.\n",
    "\n",
    "# You'll find many definitions of pairing, but at heart the criterion is something that makes pairs of values at least somewhat positively dependent, while unpaired values are not dependent. Often the dependence-pairing occurs because they're observations on the same unit (repeated measures), but it doesn't have to be on the same unit, just in some way tending to be associated (while measuring the same kind of thing), to be considered as 'paired'.\n",
    "\n",
    "\n",
    "for model in model_ids: \n",
    "    dic = get_bias('IMDB', model_id_ = model)\n",
    "    for spec in specs:\n",
    "        m = dic[spec]['pos_prob_m'].tolist()\n",
    "        f = dic[spec]['pos_prob_f'].tolist()\n",
    "        print('####', model, spec, )\n",
    "       # print(ranksums(m,f))\n",
    "        rs = ranksums(f,m)\n",
    "        s = 'X'\n",
    "        if rs[1] < 0.001:\n",
    "            s = '***'\n",
    "        elif rs[1] < 0.01:\n",
    "            s = '**'\n",
    "        elif rs[1] < 0.05:\n",
    "            s = '*'\n",
    "        print(rs, s)"
   ]
  },
  {
   "cell_type": "code",
   "execution_count": 64,
   "metadata": {},
   "outputs": [
    {
     "name": "stdout",
     "output_type": "stream",
     "text": [
      "tinybert pro #### WilcoxonResult(statistic=7152511.5, pvalue=0.0) ***\n",
      "####m-f<0\n",
      "tinybert pro #### WilcoxonResult(statistic=7152511.5, pvalue=0.0) ***\n",
      "#####\n",
      "tinybert weat #### WilcoxonResult(statistic=7930106.5, pvalue=0.0) ***\n",
      "####m-f<0\n",
      "tinybert weat #### WilcoxonResult(statistic=7930106.5, pvalue=0.0) ***\n",
      "#####\n",
      "tinybert all #### WilcoxonResult(statistic=41883821.0, pvalue=0.0) ***\n",
      "####m-f<0\n",
      "tinybert all #### WilcoxonResult(statistic=41883821.0, pvalue=0.0) ***\n",
      "#####\n"
     ]
    }
   ],
   "source": [
    "from scipy.stats import ranksums, wilcoxon\n",
    "\n",
    "def stats(x,y,a=\"two-sided\"):\n",
    "        rs = wilcoxon(x,y,alternative=a)\n",
    "        s = 'X'\n",
    "        if rs[1] < 0.001:\n",
    "            s = '***'\n",
    "        elif rs[1] < 0.01:\n",
    "            s = '**'\n",
    "        elif rs[1] < 0.05:\n",
    "            s = '*'\n",
    "        return rs, s\n",
    "\n",
    "\n",
    "\n",
    "for model in model_ids: \n",
    "    dic = get_bias('IMDB', model_id_ = model)\n",
    "    for spec in specs:\n",
    "        m = dic[spec]['pos_prob_m'].tolist()\n",
    "        f = dic[spec]['pos_prob_f'].tolist()\n",
    "        rs, s = stats(m,f)\n",
    "        print( model, spec,'####', rs, s )\n",
    "        print('####m-f<0')\n",
    "        print( model, spec,'####', rs, s )\n",
    "        print('#####')\n"
   ]
  },
  {
   "cell_type": "code",
   "execution_count": null,
   "metadata": {},
   "outputs": [],
   "source": []
  }
 ],
 "metadata": {
  "kernelspec": {
   "display_name": "Python 3.10.7 ('env': venv)",
   "language": "python",
   "name": "python3"
  },
  "language_info": {
   "codemirror_mode": {
    "name": "ipython",
    "version": 3
   },
   "file_extension": ".py",
   "mimetype": "text/x-python",
   "name": "python",
   "nbconvert_exporter": "python",
   "pygments_lexer": "ipython3",
   "version": "3.10.7"
  },
  "vscode": {
   "interpreter": {
    "hash": "593dd44fe84ea48071ef51afc162e99aebcd46bd852235f1a95144295696df7f"
   }
  }
 },
 "nbformat": 4,
 "nbformat_minor": 4
}
