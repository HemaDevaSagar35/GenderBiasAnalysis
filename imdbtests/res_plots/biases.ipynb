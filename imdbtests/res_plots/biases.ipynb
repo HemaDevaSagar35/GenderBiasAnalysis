{
 "cells": [
  {
   "cell_type": "code",
   "execution_count": 38,
   "metadata": {},
   "outputs": [],
   "source": [
    "#import analysis_util as au\n",
    "import matplotlib.pyplot as plt\n",
    "import numpy as np\n",
    "import pandas as pd\n",
    "\n",
    "import sys, os\n",
    "from glob import glob\n",
    "import pickle as pickle\n",
    "\n",
    "import matplotlib.patches as mpatches\n",
    "import matplotlib.pyplot as plt\n",
    "\n",
    "sys.path.append(\"/localdata2/jent_so/LM_GenderBias\")"
   ]
  },
  {
   "cell_type": "code",
   "execution_count": 39,
   "metadata": {},
   "outputs": [],
   "source": [
    "def posneg(list):\n",
    "    pos = [x for x in list if x>0]\n",
    "    neg = [x for x in list if x<0]\n",
    "    \n",
    "#    print(len(pos), len(neg)) \n",
    "    return np.mean(pos), np.mean(neg), len(pos), len(neg)\n",
    "    \n",
    "\n",
    "def rename(name):\n",
    "    specs = [\n",
    "        ['N_pro', 'remove Pronouns'], \n",
    "        ['N_weat', 'remove WEAT'], \n",
    "        ['N_all', 'remove All'],\n",
    "        ['mix_pro', 'mix Pronouns'], \n",
    "        ['mix_weat', 'mix WEAT'], \n",
    "        ['mix_all', 'mix All'], \n",
    "        ['original_Rall', 'All'], \n",
    "        ['original_Rweat', 'WEAT'], \n",
    "        ['original_Rpro', 'Pronouns'], \n",
    "    ]\n",
    "\n",
    "    specs = [\n",
    "        ['pro', 'remove Pronouns'], \n",
    "        ['weat', 'remove WEAT'], \n",
    "        ['all', 'remove All'],\n",
    "        ['mix_pro', 'mix Pronouns'], \n",
    "        ['mix_weat', 'mix WEAT'], \n",
    "        ['mix_all', 'mix All'], \n",
    "        ['original_Rall', 'All'], \n",
    "        ['original_Rweat', 'WEAT'], \n",
    "        ['original_Rpro', 'Pronouns'], \n",
    "    ]\n",
    "        #['original']\n",
    "    for spec in specs:\n",
    "        if spec[0] in name:\n",
    "            return spec[1]\n",
    "    print(\"error\")\n"
   ]
  },
  {
   "cell_type": "code",
   "execution_count": 40,
   "metadata": {},
   "outputs": [],
   "source": [
    "def calc_bias_dict(df_dict):\n",
    "    bias_dict = {}\n",
    "\n",
    "    for spec in df_dict.keys():\n",
    "        bias_l = df_dict[spec].bias.tolist()\n",
    "        # total bias\n",
    "        overall_bias_total = np.mean(bias_l)\n",
    "        overall_bias_total_noZero = np.mean([i for i in bias_l if i != 0])\n",
    "        # absolute bias\n",
    "        overall_bias_abs = np.mean([abs(x) for x in bias_l])\n",
    "        overall_bias_abs_noZero = np.mean([abs(x) for x in bias_l if x != 0])\n",
    "        # pos neg bias \n",
    "        pos, neg, pos_n, neg_n = posneg(bias_l) \n",
    "\n",
    "        bias_dict[spec] = [\n",
    "            overall_bias_total, # 0\n",
    "            overall_bias_abs, # 1\n",
    "            pos, neg, # 2 3 \n",
    "            pos_n, neg_n, # 4 5 \n",
    "            overall_bias_total_noZero, # 6\n",
    "            overall_bias_abs_noZero  ] # 7 \n",
    "    return bias_dict"
   ]
  },
  {
   "cell_type": "markdown",
   "metadata": {},
   "source": [
    "# \n",
    "---  \n",
    "---  \n",
    "---  \n",
    "#    \n",
    "---  \n",
    "---  \n",
    "---  \n",
    "# \n",
    "---  \n",
    "---  \n",
    "---  \n",
    "# "
   ]
  },
  {
   "cell_type": "code",
   "execution_count": 41,
   "metadata": {
    "collapsed": true,
    "jupyter": {
     "outputs_hidden": true
    }
   },
   "outputs": [
    {
     "data": {
      "image/png": "[encoded data removed]",
      "text/plain": [
       "<Figure size 500x500 with 1 Axes>"
      ]
     },
     "metadata": {},
     "output_type": "display_data"
    }
   ],
   "source": [
    "def twoSidedBias(task, model_id, \n",
    "                 # specs= ['N_pro', 'N_weat', 'N_all', 'mix_pro', 'mix_weat', 'mix_all', 'original'], \n",
    "                 safe_name=None, y_lim= None):\n",
    "    \n",
    "    files = glob(\"../res_results/ratings/*\")\n",
    "    #files.remove('../res_results/ratings/rating_{}_{}_original'.format(task, model_id))\n",
    "    df_dict = {}\n",
    "    for file in files: \n",
    "        if '_{}_'.format(model_id) in file and task in file:\n",
    "            with open (file, \"rb\") as fh:\n",
    "                data = pickle.load(fh)\n",
    "            df_dict[rename(file)] = data\n",
    "    \n",
    "    plt.rcParams[\"figure.figsize\"] = (5,5)\n",
    "    \n",
    "    bias_dict = calc_bias_dict(df_dict) \n",
    "    specs = list(df_dict.keys())\n",
    "    \n",
    "    specs.sort()\n",
    "    \n",
    "    myorder = [1,7,4,  2,8,5,  0,6,3 ]\n",
    "\n",
    "    poss = [bias_dict[spec][2] for spec in specs] \n",
    "    negs = [bias_dict[spec][3] for spec in specs] \n",
    "    mids = [bias_dict[spec][7] for spec in specs] \n",
    "    \n",
    "    # poss = [poss[i] for i in myorder]\n",
    "    # negs = [negs[i] for i in myorder]\n",
    "    # specs = [specs[i] for i in myorder]\n",
    "    # mids = [mids[i] for i in myorder] \n",
    "\n",
    "  #  print(poss)\n",
    "    c0 = 'tab:blue'\n",
    "    c1 = 'tab:orange'\n",
    "\n",
    "    x_pos = np.arange(len(poss)) + [0,1,2]\n",
    "    \n",
    "    if y_lim:\n",
    "        plt.ylim(y_lim)\n",
    "    \n",
    "    # Create bars\n",
    "    #plt.bar(x_pos, biases_abs)\n",
    "    plt.bar(x_pos, poss, color=[\"cornflowerblue\", \"lightcoral\", \"mediumseagreen\" ]*3)\n",
    "    plt.bar(x_pos, negs, color=[\"royalblue\",\"indianred\",  'forestgreen']*3)\n",
    "    plt.title('{} {}'.format(task, model_id))\n",
    "    \n",
    "    # Create names on the x-axis\n",
    "    plt.xticks([x_pos[i] for i in [0,1,2]], ['Pronouns', \"WEAT\", \"All\"])\n",
    "   # plt.xticks(rotation=90)\n",
    "    \n",
    "    # Show graphic\n",
    "    plt.grid(axis='y')\n",
    "    if safe_name:\n",
    "        #plt.savefig(\"res_plots/{}_{}\".format(safe_name, time() ) )\n",
    "        plt.savefig(\"../res_plots/{}\".format(safe_name))\n",
    "    plt.show()\n",
    "\n",
    "twoSidedBias('IMDB', 'tinybert',  safe_name='IMDB_TinyBert_Bias')\n"
   ]
  }
 ],
 "metadata": {
  "kernelspec": {
   "display_name": "Python 3.10.7 ('env': venv)",
   "language": "python",
   "name": "python3"
  },
  "language_info": {
   "codemirror_mode": {
    "name": "ipython",
    "version": 3
   },
   "file_extension": ".py",
   "mimetype": "text/x-python",
   "name": "python",
   "nbconvert_exporter": "python",
   "pygments_lexer": "ipython3",
   "version": "3.10.7"
  },
  "vscode": {
   "interpreter": {
    "hash": "593dd44fe84ea48071ef51afc162e99aebcd46bd852235f1a95144295696df7f"
   }
  }
 },
 "nbformat": 4,
 "nbformat_minor": 4
}
