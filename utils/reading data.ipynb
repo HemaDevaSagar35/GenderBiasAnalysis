{
 "cells": [
  {
   "cell_type": "code",
   "execution_count": 5,
   "id": "dc5c3698",
   "metadata": {},
   "outputs": [],
   "source": [
    "import csv\n",
    "import random\n",
    "import pandas as pd"
   ]
  },
  {
   "cell_type": "code",
   "execution_count": 6,
   "id": "4d734481",
   "metadata": {},
   "outputs": [],
   "source": [
    "### Convert the labels to binary labels. Normal ---> non-toxic, Other ----> toxic\n",
    "### Split 10% to test - Use with stopwords english file\n",
    "### Save as tsv files\n",
    "total_df = pd.read_csv('../data/glue_data/MLMA/en_dataset_with_stop_words.csv')"
   ]
  },
  {
   "cell_type": "code",
   "execution_count": 7,
   "id": "f93007bf",
   "metadata": {},
   "outputs": [],
   "source": [
    "total_df.loc[total_df['sentiment'] != 'normal', 'sentiment'] = 'toxic'\n",
    "total_df.loc[total_df['sentiment'] == 'normal', 'sentiment'] = 'non-toxic'"
   ]
  },
  {
   "cell_type": "code",
   "execution_count": 8,
   "id": "d4c73c18",
   "metadata": {},
   "outputs": [],
   "source": [
    "test = int(0.1*total_df.shape[0])"
   ]
  },
  {
   "cell_type": "code",
   "execution_count": 9,
   "id": "7744881e",
   "metadata": {},
   "outputs": [
    {
     "data": {
      "text/plain": [
       "1580965"
      ]
     },
     "execution_count": 9,
     "metadata": {},
     "output_type": "execute_result"
    }
   ],
   "source": [
    "random.seed(11)\n",
    "test_idx = random.sample(range(total_df.shape[0]), test)\n",
    "train_idx = list(set(range(0, total_df.shape[0])) - set(test_idx))\n",
    "sum(test_idx)"
   ]
  },
  {
   "cell_type": "code",
   "execution_count": 10,
   "id": "9837e71f",
   "metadata": {},
   "outputs": [
    {
     "data": {
      "text/plain": [
       "1637559"
      ]
     },
     "execution_count": 10,
     "metadata": {},
     "output_type": "execute_result"
    }
   ],
   "source": [
    "random.seed(3)\n",
    "dev_idx = random.sample(train_idx, test)\n",
    "train_idx = list(set(train_idx) - set(dev_idx))\n",
    "sum(dev_idx)"
   ]
  },
  {
   "cell_type": "code",
   "execution_count": 21,
   "id": "f4d6eaac",
   "metadata": {},
   "outputs": [
    {
     "data": {
      "text/plain": [
       "set()"
      ]
     },
     "execution_count": 21,
     "metadata": {},
     "output_type": "execute_result"
    }
   ],
   "source": [
    "set(dev_idx).intersection(set(test_idx))"
   ]
  },
  {
   "cell_type": "code",
   "execution_count": 11,
   "id": "386accfa",
   "metadata": {},
   "outputs": [],
   "source": [
    "train_set = total_df.iloc[train_idx, ]\n",
    "test_set = total_df.iloc[test_idx, ]\n",
    "dev_set = total_df.iloc[dev_idx, ]"
   ]
  },
  {
   "cell_type": "code",
   "execution_count": 13,
   "id": "bc874f14",
   "metadata": {},
   "outputs": [],
   "source": [
    "#### Convert train_set to tsv and save it\n",
    "train_name = '../data/glue_data/MLMA/train.tsv'\n",
    "with open(train_name, 'w', newline='', encoding=\"utf-8\") as f:\n",
    "    writer = csv.writer(f, delimiter=\"\\t\")\n",
    "    writer.writerow(list(train_set.columns))\n",
    "    for i, line in enumerate(train_set.values):\n",
    "        writer.writerow(line)"
   ]
  },
  {
   "cell_type": "code",
   "execution_count": 14,
   "id": "07017039",
   "metadata": {},
   "outputs": [
    {
     "data": {
      "text/plain": [
       "[5646,\n",
       " '@user whats the ching chong stuff mean',\n",
       " 'toxic',\n",
       " 'indirect',\n",
       " 'anger_shock_indifference_disgust',\n",
       " 'origin',\n",
       " 'asians']"
      ]
     },
     "execution_count": 14,
     "metadata": {},
     "output_type": "execute_result"
    }
   ],
   "source": [
    "train_set.iloc[i, :].values.tolist()"
   ]
  },
  {
   "cell_type": "code",
   "execution_count": 15,
   "id": "99d80579",
   "metadata": {},
   "outputs": [],
   "source": [
    "#### Convert test_set to tsv and save it\n",
    "test_name = '../data/glue_data/MLMA/test.tsv'\n",
    "with open(test_name, 'w', newline='', encoding=\"utf-8\") as f:\n",
    "    writer = csv.writer(f, delimiter=\"\\t\")\n",
    "    writer.writerow(list(test_set.columns))\n",
    "    for (i, line) in enumerate(test_set.values):\n",
    "        writer.writerow(line)"
   ]
  },
  {
   "cell_type": "code",
   "execution_count": 16,
   "id": "4d897832",
   "metadata": {},
   "outputs": [],
   "source": [
    "#### Convert dev_set to tsv and save it\n",
    "dev_name = '../data/glue_data/MLMA/dev.tsv'\n",
    "with open(dev_name, 'w', newline='', encoding=\"utf-8\") as f:\n",
    "    writer = csv.writer(f, delimiter=\"\\t\")\n",
    "    writer.writerow(list(dev_set.columns))\n",
    "    for (i, line) in enumerate(dev_set.values):\n",
    "        writer.writerow(line)"
   ]
  },
  {
   "cell_type": "code",
   "execution_count": 17,
   "id": "acb6980b",
   "metadata": {},
   "outputs": [
    {
     "data": {
      "text/plain": [
       "[2125,\n",
       " '@user I dont speak ching chong (1)',\n",
       " 'toxic',\n",
       " 'indirect',\n",
       " 'anger_disgust',\n",
       " 'origin',\n",
       " 'individual']"
      ]
     },
     "execution_count": 17,
     "metadata": {},
     "output_type": "execute_result"
    }
   ],
   "source": [
    "test_set.iloc[i, :].values.tolist()"
   ]
  },
  {
   "cell_type": "code",
   "execution_count": 18,
   "id": "b5bc7a4a",
   "metadata": {},
   "outputs": [
    {
     "data": {
      "text/plain": [
       "[4355,\n",
       " \"We have some fucking retarded fans. Durrr JG lost this game because our defense couldn't stop them...durrrr\",\n",
       " 'toxic',\n",
       " 'indirect',\n",
       " 'anger_disgust',\n",
       " 'disability',\n",
       " 'special_needs']"
      ]
     },
     "execution_count": 18,
     "metadata": {},
     "output_type": "execute_result"
    }
   ],
   "source": [
    "dev_set.iloc[i, :].values.tolist()"
   ]
  },
  {
   "cell_type": "code",
   "execution_count": 86,
   "id": "e03ce628",
   "metadata": {},
   "outputs": [
    {
     "data": {
      "text/plain": [
       "(5083, 7)"
      ]
     },
     "execution_count": 86,
     "metadata": {},
     "output_type": "execute_result"
    }
   ],
   "source": [
    "train_set.shape"
   ]
  },
  {
   "cell_type": "code",
   "execution_count": 87,
   "id": "680b75b1",
   "metadata": {},
   "outputs": [
    {
     "data": {
      "text/plain": [
       "(564, 7)"
      ]
     },
     "execution_count": 87,
     "metadata": {},
     "output_type": "execute_result"
    }
   ],
   "source": [
    "test_set.shape"
   ]
  }
 ],
 "metadata": {
  "kernelspec": {
   "display_name": "Python 3 (ipykernel)",
   "language": "python",
   "name": "python3"
  },
  "language_info": {
   "codemirror_mode": {
    "name": "ipython",
    "version": 3
   },
   "file_extension": ".py",
   "mimetype": "text/x-python",
   "name": "python",
   "nbconvert_exporter": "python",
   "pygments_lexer": "ipython3",
   "version": "3.8.13"
  }
 },
 "nbformat": 4,
 "nbformat_minor": 5
}
