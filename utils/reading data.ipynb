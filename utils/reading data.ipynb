{
 "cells": [
  {
   "cell_type": "code",
   "execution_count": 3,
   "id": "dc5c3698",
   "metadata": {},
   "outputs": [],
   "source": [
    "import pandas as pd\n",
    "import csv"
   ]
  },
  {
   "cell_type": "code",
   "execution_count": 54,
   "id": "4d734481",
   "metadata": {},
   "outputs": [],
   "source": [
    "### Convert the labels to binary labels. Normal ---> non-toxic, Other ----> toxic\n",
    "### Split 10% to test - Use with stopwords english file\n",
    "### Save as tsv files\n",
    "total_df = pd.read_csv('../data/glue_data/hate_speech_mlma/en_dataset_with_stop_words.csv')"
   ]
  },
  {
   "cell_type": "code",
   "execution_count": 16,
   "id": "73e0fe2a",
   "metadata": {},
   "outputs": [],
   "source": [
    "import random"
   ]
  },
  {
   "cell_type": "code",
   "execution_count": 55,
   "id": "f93007bf",
   "metadata": {},
   "outputs": [],
   "source": [
    "total_df.loc[total_df['sentiment'] != 'normal', 'sentiment'] = 'toxic'\n",
    "total_df.loc[total_df['sentiment'] == 'normal', 'sentiment'] = 'non-toxic'"
   ]
  },
  {
   "cell_type": "code",
   "execution_count": 56,
   "id": "d4c73c18",
   "metadata": {},
   "outputs": [],
   "source": [
    "test = int(0.1*total_df.shape[0])"
   ]
  },
  {
   "cell_type": "code",
   "execution_count": 57,
   "id": "7744881e",
   "metadata": {},
   "outputs": [
    {
     "data": {
      "text/plain": [
       "1580965"
      ]
     },
     "execution_count": 57,
     "metadata": {},
     "output_type": "execute_result"
    }
   ],
   "source": [
    "random.seed(11)\n",
    "test_idx = random.sample(range(total_df.shape[0]), test)\n",
    "train_idx = list(set(range(0, total_df.shape[0])) - set(test_idx))\n",
    "sum(test_idx)"
   ]
  },
  {
   "cell_type": "code",
   "execution_count": 58,
   "id": "386accfa",
   "metadata": {},
   "outputs": [],
   "source": [
    "train_set = total_df.iloc[train_idx, ]\n",
    "test_set = total_df.loc[test_idx, ]"
   ]
  },
  {
   "cell_type": "code",
   "execution_count": 83,
   "id": "bc874f14",
   "metadata": {},
   "outputs": [],
   "source": [
    "#### Convert train_set to tsv and save it\n",
    "train_name = '../data/glue_data/hate_speech_mlma/train.tsv'\n",
    "with open(train_name, 'w', newline='', encoding=\"utf-8\") as f:\n",
    "    writer = csv.writer(f, delimiter=\"\\t\")\n",
    "    writer.writerow(list(train_set.columns))\n",
    "    for i, line in enumerate(train_set.values):\n",
    "        writer.writerow(line)"
   ]
  },
  {
   "cell_type": "code",
   "execution_count": 82,
   "id": "07017039",
   "metadata": {},
   "outputs": [
    {
     "data": {
      "text/plain": [
       "[0,\n",
       " \"If America had another 8 years of Obama's ideology via Hillary we'd be well on our way to being a shithole country.\",\n",
       " 'toxic',\n",
       " 'indirect',\n",
       " 'anger_fear_shock_sadness_disgust',\n",
       " 'origin',\n",
       " 'other']"
      ]
     },
     "execution_count": 82,
     "metadata": {},
     "output_type": "execute_result"
    }
   ],
   "source": [
    "train_set.iloc[i, :].values.tolist()"
   ]
  },
  {
   "cell_type": "code",
   "execution_count": 85,
   "id": "99d80579",
   "metadata": {},
   "outputs": [],
   "source": [
    "#### Convert test_set to tsv and save it\n",
    "test_name = '../data/glue_data/hate_speech_mlma/test.tsv'\n",
    "with open(test_name, 'w', newline='', encoding=\"utf-8\") as f:\n",
    "    writer = csv.writer(f, delimiter=\"\\t\")\n",
    "    writer.writerow(list(test_set.columns))\n",
    "    for (i, line) in enumerate(test_set.values):\n",
    "        writer.writerow(line)"
   ]
  },
  {
   "cell_type": "code",
   "execution_count": 86,
   "id": "e03ce628",
   "metadata": {},
   "outputs": [
    {
     "data": {
      "text/plain": [
       "(5083, 7)"
      ]
     },
     "execution_count": 86,
     "metadata": {},
     "output_type": "execute_result"
    }
   ],
   "source": [
    "train_set.shape"
   ]
  },
  {
   "cell_type": "code",
   "execution_count": 87,
   "id": "680b75b1",
   "metadata": {},
   "outputs": [
    {
     "data": {
      "text/plain": [
       "(564, 7)"
      ]
     },
     "execution_count": 87,
     "metadata": {},
     "output_type": "execute_result"
    }
   ],
   "source": [
    "test_set.shape"
   ]
  }
 ],
 "metadata": {
  "kernelspec": {
   "display_name": "Python 3 (ipykernel)",
   "language": "python",
   "name": "python3"
  },
  "language_info": {
   "codemirror_mode": {
    "name": "ipython",
    "version": 3
   },
   "file_extension": ".py",
   "mimetype": "text/x-python",
   "name": "python",
   "nbconvert_exporter": "python",
   "pygments_lexer": "ipython3",
   "version": "3.8.13"
  }
 },
 "nbformat": 4,
 "nbformat_minor": 5
}
